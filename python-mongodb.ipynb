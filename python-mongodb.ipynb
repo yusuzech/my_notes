{
 "cells": [
  {
   "cell_type": "code",
   "execution_count": 2,
   "metadata": {
    "collapsed": false,
    "deletable": true,
    "editable": true
   },
   "outputs": [
    {
     "name": "stdout",
     "output_type": "stream",
     "text": [
      "Collecting pymongo\n",
      "  Downloading https://files.pythonhosted.org/packages/5d/ed/569dc31fa8b3defcca05654e6c23b97a152be6b7a5bd427bc7c9be7b139d/pymongo-3.6.1-cp35-cp35m-manylinux1_x86_64.whl (378kB)\n",
      "\u001b[K    100% |████████████████████████████████| 378kB 2.2MB/s ta 0:00:01\n",
      "\u001b[?25hInstalling collected packages: pymongo\n",
      "Successfully installed pymongo-3.6.1\n",
      "\u001b[33mYou are using pip version 9.0.3, however version 10.0.1 is available.\n",
      "You should consider upgrading via the 'pip install --upgrade pip' command.\u001b[0m\n"
     ]
    }
   ],
   "source": [
    "!pip install pymongo"
   ]
  },
  {
   "cell_type": "code",
   "execution_count": 89,
   "metadata": {
    "collapsed": true,
    "deletable": true,
    "editable": true
   },
   "outputs": [],
   "source": [
    "import pymongo\n",
    "from pymongo import MongoClient"
   ]
  },
  {
   "cell_type": "markdown",
   "metadata": {},
   "source": [
    "# Part 1"
   ]
  },
  {
   "cell_type": "markdown",
   "metadata": {
    "deletable": true,
    "editable": true
   },
   "source": [
    "## Connect to database"
   ]
  },
  {
   "cell_type": "code",
   "execution_count": 139,
   "metadata": {
    "collapsed": false,
    "deletable": true,
    "editable": true
   },
   "outputs": [],
   "source": [
    "client = MongoClient('mongodb://classuser:******@******.mlab.com:******/bax423')"
   ]
  },
  {
   "cell_type": "code",
   "execution_count": 148,
   "metadata": {
    "collapsed": true,
    "deletable": true,
    "editable": true
   },
   "outputs": [],
   "source": [
    "#connect to database\n",
    "db = client.bax423\n",
    "collection = db.yifu_users"
   ]
  },
  {
   "cell_type": "markdown",
   "metadata": {
    "deletable": true,
    "editable": true
   },
   "source": [
    "**Load content from jsonplaceholder**"
   ]
  },
  {
   "cell_type": "code",
   "execution_count": 149,
   "metadata": {
    "collapsed": true,
    "deletable": true,
    "editable": true
   },
   "outputs": [],
   "source": [
    "#get content\n",
    "import requests\n",
    "import json\n",
    "r=requests.get(\"https://jsonplaceholder.typicode.com/users\")\n",
    "my_content = json.loads(r.text)"
   ]
  },
  {
   "cell_type": "markdown",
   "metadata": {},
   "source": [
    "**insert one**"
   ]
  },
  {
   "cell_type": "code",
   "execution_count": 150,
   "metadata": {
    "collapsed": false,
    "deletable": true,
    "editable": true
   },
   "outputs": [
    {
     "name": "stdout",
     "output_type": "stream",
     "text": [
      "10 items in the list\n"
     ]
    }
   ],
   "source": [
    "print(str(len(my_content))+\" items in the list\")\n",
    "#insert one\n",
    "post1 = my_content[0]\n",
    "posts = db.posts\n",
    "post_id = posts.insert_one(post1).inserted_id"
   ]
  },
  {
   "cell_type": "code",
   "execution_count": 151,
   "metadata": {
    "collapsed": false,
    "deletable": true,
    "editable": true
   },
   "outputs": [
    {
     "data": {
      "text/plain": [
       "ObjectId('5b060d007b264900b30ee7fe')"
      ]
     },
     "execution_count": 151,
     "metadata": {},
     "output_type": "execute_result"
    }
   ],
   "source": [
    "post_id"
   ]
  },
  {
   "cell_type": "markdown",
   "metadata": {},
   "source": [
    "**Insert many**"
   ]
  },
  {
   "cell_type": "code",
   "execution_count": 152,
   "metadata": {
    "collapsed": false,
    "deletable": true,
    "editable": true
   },
   "outputs": [
    {
     "data": {
      "text/plain": [
       "[ObjectId('5b060d027b264900b30ee7ff'),\n",
       " ObjectId('5b060d027b264900b30ee800'),\n",
       " ObjectId('5b060d027b264900b30ee801'),\n",
       " ObjectId('5b060d027b264900b30ee802'),\n",
       " ObjectId('5b060d027b264900b30ee803'),\n",
       " ObjectId('5b060d027b264900b30ee804'),\n",
       " ObjectId('5b060d027b264900b30ee805'),\n",
       " ObjectId('5b060d027b264900b30ee806')]"
      ]
     },
     "execution_count": 152,
     "metadata": {},
     "output_type": "execute_result"
    }
   ],
   "source": [
    "#Insert many\n",
    "posts2 = my_content[1:9]\n",
    "result = posts.insert_many(posts2)\n",
    "result.inserted_ids"
   ]
  },
  {
   "cell_type": "code",
   "execution_count": 153,
   "metadata": {
    "collapsed": false,
    "deletable": true,
    "editable": true
   },
   "outputs": [
    {
     "data": {
      "text/plain": [
       "['users',\n",
       " 'posts',\n",
       " 'dane_posts',\n",
       " 'users2',\n",
       " 'posts_sg',\n",
       " 'users_yiqing',\n",
       " 'test_posts',\n",
       " 'posts_yiqing',\n",
       " 'test_users',\n",
       " 'post',\n",
       " 'dane_users']"
      ]
     },
     "execution_count": 153,
     "metadata": {},
     "output_type": "execute_result"
    }
   ],
   "source": [
    "db.collection_names(include_system_collections=False)"
   ]
  },
  {
   "cell_type": "code",
   "execution_count": 154,
   "metadata": {
    "collapsed": false,
    "deletable": true,
    "editable": true
   },
   "outputs": [
    {
     "name": "stdout",
     "output_type": "stream",
     "text": [
      "{'_id': ObjectId('5b01d883c57c892c75801c4a'),\n",
      " 'address': {'city': 'Gwenborough',\n",
      "             'geo': {'lat': '-37.3159', 'lng': '81.1496'},\n",
      "             'street': 'Kulas Light',\n",
      "             'suite': 'Apt. 556',\n",
      "             'zipcode': '92998-3874'},\n",
      " 'company': {'bs': 'harness real-time e-markets',\n",
      "             'catchPhrase': 'Multi-layered client-server neural-net',\n",
      "             'name': 'Romaguera-Crona'},\n",
      " 'email': 'Sincere@april.biz',\n",
      " 'id': 1,\n",
      " 'name': 'Leanne Graham',\n",
      " 'phone': '1-770-736-8031 x56442',\n",
      " 'title': 'update_many',\n",
      " 'username': 'Bret',\n",
      " 'website': 'hildegard.org'}\n"
     ]
    }
   ],
   "source": [
    "from pprint import pprint\n",
    "\n",
    "q_result = posts.find_one({\"username\" : \"Bret\"})\n",
    "pprint(q_result)"
   ]
  },
  {
   "cell_type": "code",
   "execution_count": 156,
   "metadata": {
    "collapsed": false
   },
   "outputs": [
    {
     "name": "stdout",
     "output_type": "stream",
     "text": [
      "{'_id': ObjectId('5b01d883c57c892c75801c50'),\n",
      " 'address': {'city': 'Howemouth',\n",
      "             'geo': {'lat': '24.8918', 'lng': '21.8984'},\n",
      "             'street': 'Rex Trail',\n",
      "             'suite': 'Suite 280',\n",
      "             'zipcode': '58804-1099'},\n",
      " 'company': {'bs': 'generate enterprise e-tailers',\n",
      "             'catchPhrase': 'Configurable multimedia task-force',\n",
      "             'name': 'Johns Group'},\n",
      " 'email': 'Telly.Hoeger@billy.biz',\n",
      " 'id': 7,\n",
      " 'name': 'Kurtis Weissnat',\n",
      " 'phone': '210.067.6132',\n",
      " 'username': 'Elwyn.Skiles',\n",
      " 'website': 'elvis.io'}\n"
     ]
    }
   ],
   "source": [
    "q_result=posts.find_one({\"address.city\":\"Howemouth\"})\n",
    "pprint(q_result)"
   ]
  },
  {
   "cell_type": "code",
   "execution_count": 157,
   "metadata": {
    "collapsed": false
   },
   "outputs": [
    {
     "name": "stdout",
     "output_type": "stream",
     "text": [
      "{'_id': ObjectId('5b01d883c57c892c75801c4e'),\n",
      " 'address': {'city': 'Roscoeview',\n",
      "             'geo': {'lat': '-31.8129', 'lng': '62.5342'},\n",
      "             'street': 'Skiles Walks',\n",
      "             'suite': 'Suite 351',\n",
      "             'zipcode': '33263'},\n",
      " 'company': {'bs': 'revolutionize end-to-end systems',\n",
      "             'catchPhrase': 'User-centric fault-tolerant solution',\n",
      "             'name': 'Keebler LLC'},\n",
      " 'email': 'Lucio_Hettinger@annie.ca',\n",
      " 'id': 5,\n",
      " 'name': 'Chelsey Dietrich',\n",
      " 'phone': '(254)954-1289',\n",
      " 'username': 'Kamren',\n",
      " 'website': 'demarco.info'}\n"
     ]
    }
   ],
   "source": [
    "q_result=posts.find_one({\"company.name\":\"Keebler LLC\"})\n",
    "pprint(q_result)"
   ]
  },
  {
   "cell_type": "markdown",
   "metadata": {},
   "source": [
    "# Part 2"
   ]
  },
  {
   "cell_type": "markdown",
   "metadata": {},
   "source": [
    "**create new collection**"
   ]
  },
  {
   "cell_type": "code",
   "execution_count": 203,
   "metadata": {
    "collapsed": true
   },
   "outputs": [],
   "source": [
    "collection = db.yifu_posts\n",
    "r = requests.get(\"https://jsonplaceholder.typicode.com/posts\")\n",
    "post_content = json.loads(r.text)"
   ]
  },
  {
   "cell_type": "code",
   "execution_count": 205,
   "metadata": {
    "collapsed": false
   },
   "outputs": [
    {
     "data": {
      "text/plain": [
       "Collection(Database(MongoClient(host=['ds133964.mlab.com:33964'], document_class=dict, tz_aware=False, connect=True), 'bax423'), 'yifu_posts')"
      ]
     },
     "execution_count": 205,
     "metadata": {},
     "output_type": "execute_result"
    }
   ],
   "source": [
    "collection"
   ]
  },
  {
   "cell_type": "markdown",
   "metadata": {},
   "source": [
    "**Insert post documents**"
   ]
  },
  {
   "cell_type": "code",
   "execution_count": 198,
   "metadata": {
    "collapsed": false
   },
   "outputs": [],
   "source": [
    "result = collection.insert_many(post_content)"
   ]
  },
  {
   "cell_type": "code",
   "execution_count": 207,
   "metadata": {
    "collapsed": false
   },
   "outputs": [
    {
     "name": "stdout",
     "output_type": "stream",
     "text": [
      "[ObjectId('5b060e3f7b264900b30ee807'), ObjectId('5b060e3f7b264900b30ee808'), ObjectId('5b060e3f7b264900b30ee809'), ObjectId('5b060e3f7b264900b30ee80a'), ObjectId('5b060e3f7b264900b30ee80b'), ObjectId('5b060e3f7b264900b30ee80c'), ObjectId('5b060e3f7b264900b30ee80d'), ObjectId('5b060e3f7b264900b30ee80e'), ObjectId('5b060e3f7b264900b30ee80f'), ObjectId('5b060e3f7b264900b30ee810'), ObjectId('5b060e3f7b264900b30ee811'), ObjectId('5b060e3f7b264900b30ee812'), ObjectId('5b060e3f7b264900b30ee813'), ObjectId('5b060e3f7b264900b30ee814'), ObjectId('5b060e3f7b264900b30ee815'), ObjectId('5b060e3f7b264900b30ee816'), ObjectId('5b060e3f7b264900b30ee817'), ObjectId('5b060e3f7b264900b30ee818'), ObjectId('5b060e3f7b264900b30ee819'), ObjectId('5b060e3f7b264900b30ee81a'), ObjectId('5b060e3f7b264900b30ee81b'), ObjectId('5b060e3f7b264900b30ee81c'), ObjectId('5b060e3f7b264900b30ee81d'), ObjectId('5b060e3f7b264900b30ee81e'), ObjectId('5b060e3f7b264900b30ee81f'), ObjectId('5b060e3f7b264900b30ee820'), ObjectId('5b060e3f7b264900b30ee821'), ObjectId('5b060e3f7b264900b30ee822'), ObjectId('5b060e3f7b264900b30ee823'), ObjectId('5b060e3f7b264900b30ee824'), ObjectId('5b060e3f7b264900b30ee825'), ObjectId('5b060e3f7b264900b30ee826'), ObjectId('5b060e3f7b264900b30ee827'), ObjectId('5b060e3f7b264900b30ee828'), ObjectId('5b060e3f7b264900b30ee829'), ObjectId('5b060e3f7b264900b30ee82a'), ObjectId('5b060e3f7b264900b30ee82b'), ObjectId('5b060e3f7b264900b30ee82c'), ObjectId('5b060e3f7b264900b30ee82d'), ObjectId('5b060e3f7b264900b30ee82e'), ObjectId('5b060e3f7b264900b30ee82f'), ObjectId('5b060e3f7b264900b30ee830'), ObjectId('5b060e3f7b264900b30ee831'), ObjectId('5b060e3f7b264900b30ee832'), ObjectId('5b060e3f7b264900b30ee833'), ObjectId('5b060e3f7b264900b30ee834'), ObjectId('5b060e3f7b264900b30ee835'), ObjectId('5b060e3f7b264900b30ee836'), ObjectId('5b060e3f7b264900b30ee837'), ObjectId('5b060e3f7b264900b30ee838'), ObjectId('5b060e3f7b264900b30ee839'), ObjectId('5b060e3f7b264900b30ee83a'), ObjectId('5b060e3f7b264900b30ee83b'), ObjectId('5b060e3f7b264900b30ee83c'), ObjectId('5b060e3f7b264900b30ee83d'), ObjectId('5b060e3f7b264900b30ee83e'), ObjectId('5b060e3f7b264900b30ee83f'), ObjectId('5b060e3f7b264900b30ee840'), ObjectId('5b060e3f7b264900b30ee841'), ObjectId('5b060e3f7b264900b30ee842'), ObjectId('5b060e3f7b264900b30ee843'), ObjectId('5b060e3f7b264900b30ee844'), ObjectId('5b060e3f7b264900b30ee845'), ObjectId('5b060e3f7b264900b30ee846'), ObjectId('5b060e3f7b264900b30ee847'), ObjectId('5b060e3f7b264900b30ee848'), ObjectId('5b060e3f7b264900b30ee849'), ObjectId('5b060e3f7b264900b30ee84a'), ObjectId('5b060e3f7b264900b30ee84b'), ObjectId('5b060e3f7b264900b30ee84c'), ObjectId('5b060e3f7b264900b30ee84d'), ObjectId('5b060e3f7b264900b30ee84e'), ObjectId('5b060e3f7b264900b30ee84f'), ObjectId('5b060e3f7b264900b30ee850'), ObjectId('5b060e3f7b264900b30ee851'), ObjectId('5b060e3f7b264900b30ee852'), ObjectId('5b060e3f7b264900b30ee853'), ObjectId('5b060e3f7b264900b30ee854'), ObjectId('5b060e3f7b264900b30ee855'), ObjectId('5b060e3f7b264900b30ee856'), ObjectId('5b060e3f7b264900b30ee857'), ObjectId('5b060e3f7b264900b30ee858'), ObjectId('5b060e3f7b264900b30ee859'), ObjectId('5b060e3f7b264900b30ee85a'), ObjectId('5b060e3f7b264900b30ee85b'), ObjectId('5b060e3f7b264900b30ee85c'), ObjectId('5b060e3f7b264900b30ee85d'), ObjectId('5b060e3f7b264900b30ee85e'), ObjectId('5b060e3f7b264900b30ee85f'), ObjectId('5b060e3f7b264900b30ee860'), ObjectId('5b060e3f7b264900b30ee861'), ObjectId('5b060e3f7b264900b30ee862'), ObjectId('5b060e3f7b264900b30ee863'), ObjectId('5b060e3f7b264900b30ee864'), ObjectId('5b060e3f7b264900b30ee865'), ObjectId('5b060e3f7b264900b30ee866'), ObjectId('5b060e3f7b264900b30ee867'), ObjectId('5b060e3f7b264900b30ee868'), ObjectId('5b060e3f7b264900b30ee869'), ObjectId('5b060e3f7b264900b30ee86a')]\n"
     ]
    }
   ],
   "source": [
    "print(result.inserted_ids)"
   ]
  },
  {
   "cell_type": "markdown",
   "metadata": {},
   "source": [
    "**Update one**"
   ]
  },
  {
   "cell_type": "code",
   "execution_count": 221,
   "metadata": {
    "collapsed": false
   },
   "outputs": [
    {
     "name": "stdout",
     "output_type": "stream",
     "text": [
      "{'_id': ObjectId('5b060e3f7b264900b30ee835'),\n",
      " 'body': 'voluptatem assumenda ut qui ut cupiditate aut impedit veniam\\n'\n",
      "         'occaecati nemo illum voluptatem laudantium\\n'\n",
      "         'molestiae beatae rerum ea iure soluta nostrum\\n'\n",
      "         'eligendi et voluptate',\n",
      " 'id': 47,\n",
      " 'title': 'new_title',\n",
      " 'userId': 5}\n"
     ]
    }
   ],
   "source": [
    "#update one\n",
    "collection.update_one({'id':47}, {\"$set\": {'title':'new_title'}}, upsert=False)\n",
    "q_result=collection.find_one({'id':47})\n",
    "pprint(q_result)"
   ]
  },
  {
   "cell_type": "markdown",
   "metadata": {},
   "source": [
    "**Update many**"
   ]
  },
  {
   "cell_type": "code",
   "execution_count": 224,
   "metadata": {
    "collapsed": false
   },
   "outputs": [
    {
     "name": "stdout",
     "output_type": "stream",
     "text": [
      "{'_id': ObjectId('5b060e3f7b264900b30ee839'),\n",
      " 'body': 'new body',\n",
      " 'id': 51,\n",
      " 'title': 'soluta aliquam aperiam consequatur illo quis voluptas',\n",
      " 'userId': 6}\n",
      "{'_id': ObjectId('5b060e3f7b264900b30ee83a'),\n",
      " 'body': 'new body',\n",
      " 'id': 52,\n",
      " 'title': 'qui enim et consequuntur quia animi quis voluptate quibusdam',\n",
      " 'userId': 6}\n",
      "{'_id': ObjectId('5b060e3f7b264900b30ee83b'),\n",
      " 'body': 'new body',\n",
      " 'id': 53,\n",
      " 'title': 'ut quo aut ducimus alias',\n",
      " 'userId': 6}\n",
      "{'_id': ObjectId('5b060e3f7b264900b30ee83c'),\n",
      " 'body': 'new body',\n",
      " 'id': 54,\n",
      " 'title': 'sit asperiores ipsam eveniet odio non quia',\n",
      " 'userId': 6}\n",
      "{'_id': ObjectId('5b060e3f7b264900b30ee83d'),\n",
      " 'body': 'new body',\n",
      " 'id': 55,\n",
      " 'title': 'sit vel voluptatem et non libero',\n",
      " 'userId': 6}\n",
      "{'_id': ObjectId('5b060e3f7b264900b30ee83e'),\n",
      " 'body': 'new body',\n",
      " 'id': 56,\n",
      " 'title': 'qui et at rerum necessitatibus',\n",
      " 'userId': 6}\n",
      "{'_id': ObjectId('5b060e3f7b264900b30ee83f'),\n",
      " 'body': 'new body',\n",
      " 'id': 57,\n",
      " 'title': 'sed ab est est',\n",
      " 'userId': 6}\n",
      "{'_id': ObjectId('5b060e3f7b264900b30ee840'),\n",
      " 'body': 'new body',\n",
      " 'id': 58,\n",
      " 'title': 'voluptatum itaque dolores nisi et quasi',\n",
      " 'userId': 6}\n",
      "{'_id': ObjectId('5b060e3f7b264900b30ee841'),\n",
      " 'body': 'new body',\n",
      " 'id': 59,\n",
      " 'title': 'qui commodi dolor at maiores et quis id accusantium',\n",
      " 'userId': 6}\n",
      "{'_id': ObjectId('5b060e3f7b264900b30ee842'),\n",
      " 'body': 'new body',\n",
      " 'id': 60,\n",
      " 'title': 'consequatur placeat omnis quisquam quia reprehenderit fugit '\n",
      "          'veritatis facere',\n",
      " 'userId': 6}\n"
     ]
    }
   ],
   "source": [
    "collection.update_many({'userId':6}, {\"$set\": {'body':'new body'}}, upsert=False)\n",
    "cursor =collection.find({'userId':6})\n",
    "for document in cursor:\n",
    "  pprint(document)"
   ]
  }
 ],
 "metadata": {
  "kernelspec": {
   "display_name": "Python 3",
   "language": "python",
   "name": "python3"
  },
  "language_info": {
   "codemirror_mode": {
    "name": "ipython",
    "version": 3
   },
   "file_extension": ".py",
   "mimetype": "text/x-python",
   "name": "python",
   "nbconvert_exporter": "python",
   "pygments_lexer": "ipython3",
   "version": "3.5.5"
  }
 },
 "nbformat": 4,
 "nbformat_minor": 2
}
