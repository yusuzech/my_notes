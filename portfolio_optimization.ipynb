{
  "nbformat": 4,
  "nbformat_minor": 0,
  "metadata": {
    "colab": {
      "name": "443_last",
      "version": "0.3.2",
      "views": {},
      "default_view": {},
      "provenance": [],
      "collapsed_sections": []
    }
  },
  "cells": [
    {
      "metadata": {
        "id": "0jgbg-s3Ldqf",
        "colab_type": "text"
      },
      "cell_type": "markdown",
      "source": [
        "# 2.Set up"
      ]
    },
    {
      "metadata": {
        "id": "wHRorc_lJDWU",
        "colab_type": "code",
        "colab": {
          "autoexec": {
            "startup": false,
            "wait_interval": 0
          },
          "resources": {
            "http://localhost:8080/nbextensions/google.colab/files.js": {
              "data": "Ly8gQ29weXJpZ2h0IDIwMTcgR29vZ2xlIExMQwovLwovLyBMaWNlbnNlZCB1bmRlciB0aGUgQXBhY2hlIExpY2Vuc2UsIFZlcnNpb24gMi4wICh0aGUgIkxpY2Vuc2UiKTsKLy8geW91IG1heSBub3QgdXNlIHRoaXMgZmlsZSBleGNlcHQgaW4gY29tcGxpYW5jZSB3aXRoIHRoZSBMaWNlbnNlLgovLyBZb3UgbWF5IG9idGFpbiBhIGNvcHkgb2YgdGhlIExpY2Vuc2UgYXQKLy8KLy8gICAgICBodHRwOi8vd3d3LmFwYWNoZS5vcmcvbGljZW5zZXMvTElDRU5TRS0yLjAKLy8KLy8gVW5sZXNzIHJlcXVpcmVkIGJ5IGFwcGxpY2FibGUgbGF3IG9yIGFncmVlZCB0byBpbiB3cml0aW5nLCBzb2Z0d2FyZQovLyBkaXN0cmlidXRlZCB1bmRlciB0aGUgTGljZW5zZSBpcyBkaXN0cmlidXRlZCBvbiBhbiAiQVMgSVMiIEJBU0lTLAovLyBXSVRIT1VUIFdBUlJBTlRJRVMgT1IgQ09ORElUSU9OUyBPRiBBTlkgS0lORCwgZWl0aGVyIGV4cHJlc3Mgb3IgaW1wbGllZC4KLy8gU2VlIHRoZSBMaWNlbnNlIGZvciB0aGUgc3BlY2lmaWMgbGFuZ3VhZ2UgZ292ZXJuaW5nIHBlcm1pc3Npb25zIGFuZAovLyBsaW1pdGF0aW9ucyB1bmRlciB0aGUgTGljZW5zZS4KCi8qKgogKiBAZmlsZW92ZXJ2aWV3IEhlbHBlcnMgZm9yIGdvb2dsZS5jb2xhYiBQeXRob24gbW9kdWxlLgogKi8KKGZ1bmN0aW9uKHNjb3BlKSB7CmZ1bmN0aW9uIHNwYW4odGV4dCwgc3R5bGVBdHRyaWJ1dGVzID0ge30pIHsKICBjb25zdCBlbGVtZW50ID0gZG9jdW1lbnQuY3JlYXRlRWxlbWVudCgnc3BhbicpOwogIGVsZW1lbnQudGV4dENvbnRlbnQgPSB0ZXh0OwogIGZvciAoY29uc3Qga2V5IG9mIE9iamVjdC5rZXlzKHN0eWxlQXR0cmlidXRlcykpIHsKICAgIGVsZW1lbnQuc3R5bGVba2V5XSA9IHN0eWxlQXR0cmlidXRlc1trZXldOwogIH0KICByZXR1cm4gZWxlbWVudDsKfQoKLy8gTWF4IG51bWJlciBvZiBieXRlcyB3aGljaCB3aWxsIGJlIHVwbG9hZGVkIGF0IGEgdGltZS4KY29uc3QgTUFYX1BBWUxPQURfU0laRSA9IDEwMCAqIDEwMjQ7Ci8vIE1heCBhbW91bnQgb2YgdGltZSB0byBibG9jayB3YWl0aW5nIGZvciB0aGUgdXNlci4KY29uc3QgRklMRV9DSEFOR0VfVElNRU9VVF9NUyA9IDMwICogMTAwMDsKCmZ1bmN0aW9uIF91cGxvYWRGaWxlcyhpbnB1dElkLCBvdXRwdXRJZCkgewogIGNvbnN0IHN0ZXBzID0gdXBsb2FkRmlsZXNTdGVwKGlucHV0SWQsIG91dHB1dElkKTsKICBjb25zdCBvdXRwdXRFbGVtZW50ID0gZG9jdW1lbnQuZ2V0RWxlbWVudEJ5SWQob3V0cHV0SWQpOwogIC8vIENhY2hlIHN0ZXBzIG9uIHRoZSBvdXRwdXRFbGVtZW50IHRvIG1ha2UgaXQgYXZhaWxhYmxlIGZvciB0aGUgbmV4dCBjYWxsCiAgLy8gdG8gdXBsb2FkRmlsZXNDb250aW51ZSBmcm9tIFB5dGhvbi4KICBvdXRwdXRFbGVtZW50LnN0ZXBzID0gc3RlcHM7CgogIHJldHVybiBfdXBsb2FkRmlsZXNDb250aW51ZShvdXRwdXRJZCk7Cn0KCi8vIFRoaXMgaXMgcm91Z2hseSBhbiBhc3luYyBnZW5lcmF0b3IgKG5vdCBzdXBwb3J0ZWQgaW4gdGhlIGJyb3dzZXIgeWV0KSwKLy8gd2hlcmUgdGhlcmUgYXJlIG11bHRpcGxlIGFzeW5jaHJvbm91cyBzdGVwcyBhbmQgdGhlIFB5dGhvbiBzaWRlIGlzIGdvaW5nCi8vIHRvIHBvbGwgZm9yIGNvbXBsZXRpb24gb2YgZWFjaCBzdGVwLgovLyBUaGlzIHVzZXMgYSBQcm9taXNlIHRvIGJsb2NrIHRoZSBweXRob24gc2lkZSBvbiBjb21wbGV0aW9uIG9mIGVhY2ggc3RlcCwKLy8gdGhlbiBwYXNzZXMgdGhlIHJlc3VsdCBvZiB0aGUgcHJldmlvdXMgc3RlcCBhcyB0aGUgaW5wdXQgdG8gdGhlIG5leHQgc3RlcC4KZnVuY3Rpb24gX3VwbG9hZEZpbGVzQ29udGludWUob3V0cHV0SWQpIHsKICBjb25zdCBvdXRwdXRFbGVtZW50ID0gZG9jdW1lbnQuZ2V0RWxlbWVudEJ5SWQob3V0cHV0SWQpOwogIGNvbnN0IHN0ZXBzID0gb3V0cHV0RWxlbWVudC5zdGVwczsKCiAgY29uc3QgbmV4dCA9IHN0ZXBzLm5leHQob3V0cHV0RWxlbWVudC5sYXN0UHJvbWlzZVZhbHVlKTsKICByZXR1cm4gUHJvbWlzZS5yZXNvbHZlKG5leHQudmFsdWUucHJvbWlzZSkudGhlbigodmFsdWUpID0+IHsKICAgIC8vIENhY2hlIHRoZSBsYXN0IHByb21pc2UgdmFsdWUgdG8gbWFrZSBpdCBhdmFpbGFibGUgdG8gdGhlIG5leHQKICAgIC8vIHN0ZXAgb2YgdGhlIGdlbmVyYXRvci4KICAgIG91dHB1dEVsZW1lbnQubGFzdFByb21pc2VWYWx1ZSA9IHZhbHVlOwogICAgcmV0dXJuIG5leHQudmFsdWUucmVzcG9uc2U7CiAgfSk7Cn0KCi8qKgogKiBHZW5lcmF0b3IgZnVuY3Rpb24gd2hpY2ggaXMgY2FsbGVkIGJldHdlZW4gZWFjaCBhc3luYyBzdGVwIG9mIHRoZSB1cGxvYWQKICogcHJvY2Vzcy4KICogQHBhcmFtIHtzdHJpbmd9IGlucHV0SWQgRWxlbWVudCBJRCBvZiB0aGUgaW5wdXQgZmlsZSBwaWNrZXIgZWxlbWVudC4KICogQHBhcmFtIHtzdHJpbmd9IG91dHB1dElkIEVsZW1lbnQgSUQgb2YgdGhlIG91dHB1dCBkaXNwbGF5LgogKiBAcmV0dXJuIHshSXRlcmFibGU8IU9iamVjdD59IEl0ZXJhYmxlIG9mIG5leHQgc3RlcHMuCiAqLwpmdW5jdGlvbiogdXBsb2FkRmlsZXNTdGVwKGlucHV0SWQsIG91dHB1dElkKSB7CiAgY29uc3QgaW5wdXRFbGVtZW50ID0gZG9jdW1lbnQuZ2V0RWxlbWVudEJ5SWQoaW5wdXRJZCk7CiAgaW5wdXRFbGVtZW50LmRpc2FibGVkID0gZmFsc2U7CgogIGNvbnN0IG91dHB1dEVsZW1lbnQgPSBkb2N1bWVudC5nZXRFbGVtZW50QnlJZChvdXRwdXRJZCk7CiAgb3V0cHV0RWxlbWVudC5pbm5lckhUTUwgPSAnJzsKCiAgY29uc3QgcGlja2VkUHJvbWlzZSA9IG5ldyBQcm9taXNlKChyZXNvbHZlKSA9PiB7CiAgICBpbnB1dEVsZW1lbnQuYWRkRXZlbnRMaXN0ZW5lcignY2hhbmdlJywgKGUpID0+IHsKICAgICAgcmVzb2x2ZShlLnRhcmdldC5maWxlcyk7CiAgICB9KTsKICB9KTsKCiAgY29uc3QgY2FuY2VsID0gZG9jdW1lbnQuY3JlYXRlRWxlbWVudCgnYnV0dG9uJyk7CiAgaW5wdXRFbGVtZW50LnBhcmVudEVsZW1lbnQuYXBwZW5kQ2hpbGQoY2FuY2VsKTsKICBjYW5jZWwudGV4dENvbnRlbnQgPSAnQ2FuY2VsIHVwbG9hZCc7CiAgY29uc3QgY2FuY2VsUHJvbWlzZSA9IG5ldyBQcm9taXNlKChyZXNvbHZlKSA9PiB7CiAgICBjYW5jZWwub25jbGljayA9ICgpID0+IHsKICAgICAgcmVzb2x2ZShudWxsKTsKICAgIH07CiAgfSk7CgogIC8vIENhbmNlbCB1cGxvYWQgaWYgdXNlciBoYXNuJ3QgcGlja2VkIGFueXRoaW5nIGluIHRpbWVvdXQuCiAgY29uc3QgdGltZW91dFByb21pc2UgPSBuZXcgUHJvbWlzZSgocmVzb2x2ZSkgPT4gewogICAgc2V0VGltZW91dCgoKSA9PiB7CiAgICAgIHJlc29sdmUobnVsbCk7CiAgICB9LCBGSUxFX0NIQU5HRV9USU1FT1VUX01TKTsKICB9KTsKCiAgLy8gV2FpdCBmb3IgdGhlIHVzZXIgdG8gcGljayB0aGUgZmlsZXMuCiAgY29uc3QgZmlsZXMgPSB5aWVsZCB7CiAgICBwcm9taXNlOiBQcm9taXNlLnJhY2UoW3BpY2tlZFByb21pc2UsIHRpbWVvdXRQcm9taXNlLCBjYW5jZWxQcm9taXNlXSksCiAgICByZXNwb25zZTogewogICAgICBhY3Rpb246ICdzdGFydGluZycsCiAgICB9CiAgfTsKCiAgaWYgKCFmaWxlcykgewogICAgcmV0dXJuIHsKICAgICAgcmVzcG9uc2U6IHsKICAgICAgICBhY3Rpb246ICdjb21wbGV0ZScsCiAgICAgIH0KICAgIH07CiAgfQoKICBjYW5jZWwucmVtb3ZlKCk7CgogIC8vIERpc2FibGUgdGhlIGlucHV0IGVsZW1lbnQgc2luY2UgZnVydGhlciBwaWNrcyBhcmUgbm90IGFsbG93ZWQuCiAgaW5wdXRFbGVtZW50LmRpc2FibGVkID0gdHJ1ZTsKCiAgZm9yIChjb25zdCBmaWxlIG9mIGZpbGVzKSB7CiAgICBjb25zdCBsaSA9IGRvY3VtZW50LmNyZWF0ZUVsZW1lbnQoJ2xpJyk7CiAgICBsaS5hcHBlbmQoc3BhbihmaWxlLm5hbWUsIHtmb250V2VpZ2h0OiAnYm9sZCd9KSk7CiAgICBsaS5hcHBlbmQoc3BhbigKICAgICAgICBgKCR7ZmlsZS50eXBlIHx8ICduL2EnfSkgLSAke2ZpbGUuc2l6ZX0gYnl0ZXMsIGAgKwogICAgICAgIGBsYXN0IG1vZGlmaWVkOiAkewogICAgICAgICAgICBmaWxlLmxhc3RNb2RpZmllZERhdGUgPyBmaWxlLmxhc3RNb2RpZmllZERhdGUudG9Mb2NhbGVEYXRlU3RyaW5nKCkgOgogICAgICAgICAgICAgICAgICAgICAgICAgICAgICAgICAgICAnbi9hJ30gLSBgKSk7CiAgICBjb25zdCBwZXJjZW50ID0gc3BhbignMCUgZG9uZScpOwogICAgbGkuYXBwZW5kQ2hpbGQocGVyY2VudCk7CgogICAgb3V0cHV0RWxlbWVudC5hcHBlbmRDaGlsZChsaSk7CgogICAgY29uc3QgZmlsZURhdGFQcm9taXNlID0gbmV3IFByb21pc2UoKHJlc29sdmUpID0+IHsKICAgICAgY29uc3QgcmVhZGVyID0gbmV3IEZpbGVSZWFkZXIoKTsKICAgICAgcmVhZGVyLm9ubG9hZCA9IChlKSA9PiB7CiAgICAgICAgcmVzb2x2ZShlLnRhcmdldC5yZXN1bHQpOwogICAgICB9OwogICAgICByZWFkZXIucmVhZEFzQXJyYXlCdWZmZXIoZmlsZSk7CiAgICB9KTsKICAgIC8vIFdhaXQgZm9yIHRoZSBkYXRhIHRvIGJlIHJlYWR5LgogICAgbGV0IGZpbGVEYXRhID0geWllbGQgewogICAgICBwcm9taXNlOiBmaWxlRGF0YVByb21pc2UsCiAgICAgIHJlc3BvbnNlOiB7CiAgICAgICAgYWN0aW9uOiAnY29udGludWUnLAogICAgICB9CiAgICB9OwoKICAgIC8vIFVzZSBhIGNodW5rZWQgc2VuZGluZyB0byBhdm9pZCBtZXNzYWdlIHNpemUgbGltaXRzLiBTZWUgYi82MjExNTY2MC4KICAgIGxldCBwb3NpdGlvbiA9IDA7CiAgICB3aGlsZSAocG9zaXRpb24gPCBmaWxlRGF0YS5ieXRlTGVuZ3RoKSB7CiAgICAgIGNvbnN0IGxlbmd0aCA9IE1hdGgubWluKGZpbGVEYXRhLmJ5dGVMZW5ndGggLSBwb3NpdGlvbiwgTUFYX1BBWUxPQURfU0laRSk7CiAgICAgIGNvbnN0IGNodW5rID0gbmV3IFVpbnQ4QXJyYXkoZmlsZURhdGEsIHBvc2l0aW9uLCBsZW5ndGgpOwogICAgICBwb3NpdGlvbiArPSBsZW5ndGg7CgogICAgICBjb25zdCBiYXNlNjQgPSBidG9hKFN0cmluZy5mcm9tQ2hhckNvZGUuYXBwbHkobnVsbCwgY2h1bmspKTsKICAgICAgeWllbGQgewogICAgICAgIHJlc3BvbnNlOiB7CiAgICAgICAgICBhY3Rpb246ICdhcHBlbmQnLAogICAgICAgICAgZmlsZTogZmlsZS5uYW1lLAogICAgICAgICAgZGF0YTogYmFzZTY0LAogICAgICAgIH0sCiAgICAgIH07CiAgICAgIHBlcmNlbnQudGV4dENvbnRlbnQgPQogICAgICAgICAgYCR7TWF0aC5yb3VuZCgocG9zaXRpb24gLyBmaWxlRGF0YS5ieXRlTGVuZ3RoKSAqIDEwMCl9JSBkb25lYDsKICAgIH0KICB9CgogIC8vIEFsbCBkb25lLgogIHlpZWxkIHsKICAgIHJlc3BvbnNlOiB7CiAgICAgIGFjdGlvbjogJ2NvbXBsZXRlJywKICAgIH0KICB9Owp9CgpzY29wZS5nb29nbGUgPSBzY29wZS5nb29nbGUgfHwge307CnNjb3BlLmdvb2dsZS5jb2xhYiA9IHNjb3BlLmdvb2dsZS5jb2xhYiB8fCB7fTsKc2NvcGUuZ29vZ2xlLmNvbGFiLl9maWxlcyA9IHsKICBfdXBsb2FkRmlsZXMsCiAgX3VwbG9hZEZpbGVzQ29udGludWUsCn07Cn0pKHNlbGYpOwo=",
              "ok": true,
              "headers": [
                [
                  "content-type",
                  "application/javascript"
                ]
              ],
              "status": 200,
              "status_text": ""
            }
          },
          "base_uri": "https://localhost:8080/",
          "height": 72
        },
        "outputId": "7236c95f-53e6-4944-de94-a183c5dcded9",
        "executionInfo": {
          "status": "ok",
          "timestamp": 1527894417103,
          "user_tz": 420,
          "elapsed": 7923,
          "user": {
            "displayName": "Yifu Yan",
            "photoUrl": "https://lh3.googleusercontent.com/a/default-user=s128",
            "userId": "117257928789732833106"
          }
        }
      },
      "cell_type": "code",
      "source": [
        "# load data\n",
        "from google.colab import files\n",
        "uploaded = files.upload()"
      ],
      "execution_count": 177,
      "outputs": [
        {
          "output_type": "display_data",
          "data": {
            "text/plain": [
              "<IPython.core.display.HTML object>"
            ],
            "text/html": [
              "\n",
              "     <input type=\"file\" id=\"files-be6250a4-8894-473a-bd83-30d777756cb2\" name=\"files[]\" multiple disabled />\n",
              "     <output id=\"result-be6250a4-8894-473a-bd83-30d777756cb2\">\n",
              "      Upload widget is only available when the cell has been executed in the\n",
              "      current browser session. Please rerun this cell to enable.\n",
              "      </output>\n",
              "      <script src=\"/nbextensions/google.colab/files.js\"></script> "
            ]
          },
          "metadata": {
            "tags": []
          }
        },
        {
          "output_type": "stream",
          "text": [
            "Saving datahomework2.xls to datahomework2 (1).xls\n"
          ],
          "name": "stdout"
        }
      ]
    },
    {
      "metadata": {
        "id": "Oe2A9A-_KKbC",
        "colab_type": "code",
        "colab": {
          "autoexec": {
            "startup": false,
            "wait_interval": 0
          },
          "base_uri": "https://localhost:8080/",
          "height": 34
        },
        "outputId": "f85cd1b5-7d03-4620-ffc6-863f0be067d0",
        "executionInfo": {
          "status": "ok",
          "timestamp": 1527889459719,
          "user_tz": 420,
          "elapsed": 2291,
          "user": {
            "displayName": "Yifu Yan",
            "photoUrl": "https://lh3.googleusercontent.com/a/default-user=s128",
            "userId": "117257928789732833106"
          }
        }
      },
      "cell_type": "code",
      "source": [
        "# set up\n",
        "!pip install xlrd\n",
        "!pip install cvxpy==0.4.11\n",
        "import numpy as np\n",
        "import pandas as pd\n",
        "import matplotlib.pyplot as plt\n",
        "from cvxpy import *"
      ],
      "execution_count": 33,
      "outputs": [
        {
          "output_type": "stream",
          "text": [
            "Requirement already satisfied: xlrd in /usr/local/lib/python2.7/dist-packages (1.1.0)\r\n"
          ],
          "name": "stdout"
        }
      ]
    },
    {
      "metadata": {
        "id": "Nwse_0yrNJd1",
        "colab_type": "text"
      },
      "cell_type": "markdown",
      "source": [
        "# PART A:"
      ]
    },
    {
      "metadata": {
        "id": "aN6pu5Fp5zF0",
        "colab_type": "code",
        "colab": {
          "autoexec": {
            "startup": false,
            "wait_interval": 0
          }
        }
      },
      "cell_type": "code",
      "source": [
        "price = pd.read_excel(\"datahomework2.xls\")"
      ],
      "execution_count": 0,
      "outputs": []
    },
    {
      "metadata": {
        "id": "hretjZTxLnMV",
        "colab_type": "text"
      },
      "cell_type": "markdown",
      "source": [
        "# 1.Prepare Data"
      ]
    },
    {
      "metadata": {
        "id": "Jomkt0PZMZl-",
        "colab_type": "text"
      },
      "cell_type": "markdown",
      "source": [
        "## A. Calculate Return Rates"
      ]
    },
    {
      "metadata": {
        "id": "5ZJU4acfO8Ow",
        "colab_type": "code",
        "colab": {
          "autoexec": {
            "startup": false,
            "wait_interval": 0
          },
          "base_uri": "https://localhost:8080/",
          "height": 204
        },
        "outputId": "0b51089b-8beb-4580-a7c2-19ce7db30980",
        "executionInfo": {
          "status": "ok",
          "timestamp": 1527899443513,
          "user_tz": 420,
          "elapsed": 393,
          "user": {
            "displayName": "Yifu Yan",
            "photoUrl": "https://lh3.googleusercontent.com/a/default-user=s128",
            "userId": "117257928789732833106"
          }
        }
      },
      "cell_type": "code",
      "source": [
        "return_rate = price /price.shift(1) - 1.0# with first row as NaN\n",
        "return_rate = return_rate.drop(return_rate.index[0])\n",
        "return_rate.head(5) # return rates first 5 rows"
      ],
      "execution_count": 295,
      "outputs": [
        {
          "output_type": "execute_result",
          "data": {
            "text/html": [
              "<div>\n",
              "<style scoped>\n",
              "    .dataframe tbody tr th:only-of-type {\n",
              "        vertical-align: middle;\n",
              "    }\n",
              "\n",
              "    .dataframe tbody tr th {\n",
              "        vertical-align: top;\n",
              "    }\n",
              "\n",
              "    .dataframe thead th {\n",
              "        text-align: right;\n",
              "    }\n",
              "</style>\n",
              "<table border=\"1\" class=\"dataframe\">\n",
              "  <thead>\n",
              "    <tr style=\"text-align: right;\">\n",
              "      <th></th>\n",
              "      <th>Amazon</th>\n",
              "      <th>Apple</th>\n",
              "      <th>Ebay</th>\n",
              "      <th>Facebook</th>\n",
              "      <th>Google</th>\n",
              "      <th>Twitter</th>\n",
              "    </tr>\n",
              "  </thead>\n",
              "  <tbody>\n",
              "    <tr>\n",
              "      <th>1</th>\n",
              "      <td>-0.028097</td>\n",
              "      <td>0.000094</td>\n",
              "      <td>-0.012827</td>\n",
              "      <td>-0.013473</td>\n",
              "      <td>-0.024832</td>\n",
              "      <td>0.024739</td>\n",
              "    </tr>\n",
              "    <tr>\n",
              "      <th>2</th>\n",
              "      <td>0.033924</td>\n",
              "      <td>0.014022</td>\n",
              "      <td>-0.001727</td>\n",
              "      <td>0.000000</td>\n",
              "      <td>-0.002764</td>\n",
              "      <td>0.048552</td>\n",
              "    </tr>\n",
              "    <tr>\n",
              "      <th>3</th>\n",
              "      <td>0.008723</td>\n",
              "      <td>0.038422</td>\n",
              "      <td>0.027037</td>\n",
              "      <td>0.026592</td>\n",
              "      <td>0.003365</td>\n",
              "      <td>0.027628</td>\n",
              "    </tr>\n",
              "    <tr>\n",
              "      <th>4</th>\n",
              "      <td>-0.010667</td>\n",
              "      <td>0.001073</td>\n",
              "      <td>-0.013828</td>\n",
              "      <td>-0.005565</td>\n",
              "      <td>-0.012231</td>\n",
              "      <td>-0.019915</td>\n",
              "    </tr>\n",
              "    <tr>\n",
              "      <th>5</th>\n",
              "      <td>-0.028460</td>\n",
              "      <td>-0.024641</td>\n",
              "      <td>-0.007726</td>\n",
              "      <td>-0.013121</td>\n",
              "      <td>-0.007190</td>\n",
              "      <td>0.007112</td>\n",
              "    </tr>\n",
              "  </tbody>\n",
              "</table>\n",
              "</div>"
            ],
            "text/plain": [
              "     Amazon     Apple      Ebay  Facebook    Google   Twitter\n",
              "1 -0.028097  0.000094 -0.012827 -0.013473 -0.024832  0.024739\n",
              "2  0.033924  0.014022 -0.001727  0.000000 -0.002764  0.048552\n",
              "3  0.008723  0.038422  0.027037  0.026592  0.003365  0.027628\n",
              "4 -0.010667  0.001073 -0.013828 -0.005565 -0.012231 -0.019915\n",
              "5 -0.028460 -0.024641 -0.007726 -0.013121 -0.007190  0.007112"
            ]
          },
          "metadata": {
            "tags": []
          },
          "execution_count": 295
        }
      ]
    },
    {
      "metadata": {
        "id": "l9wgfxyyMdrM",
        "colab_type": "text"
      },
      "cell_type": "markdown",
      "source": [
        "## B. Compute Average Return Rates"
      ]
    },
    {
      "metadata": {
        "id": "BZnL2zTsWgo1",
        "colab_type": "code",
        "colab": {
          "autoexec": {
            "startup": false,
            "wait_interval": 0
          },
          "base_uri": "https://localhost:8080/",
          "height": 153
        },
        "outputId": "e49335d1-ac5b-4b97-ad9b-51806b5bd8e4",
        "executionInfo": {
          "status": "ok",
          "timestamp": 1527899444805,
          "user_tz": 420,
          "elapsed": 358,
          "user": {
            "displayName": "Yifu Yan",
            "photoUrl": "https://lh3.googleusercontent.com/a/default-user=s128",
            "userId": "117257928789732833106"
          }
        }
      },
      "cell_type": "code",
      "source": [
        "return_rate_mean = (return_rate+1.0).agg(np.prod) ** (1.0/len(return_rate.index)) -1.0\n",
        "print(\"mean return rate:\")\n",
        "return_rate_mean"
      ],
      "execution_count": 296,
      "outputs": [
        {
          "output_type": "stream",
          "text": [
            "mean return rate:\n"
          ],
          "name": "stdout"
        },
        {
          "output_type": "execute_result",
          "data": {
            "text/plain": [
              "Amazon      0.001988\n",
              "Apple       0.000626\n",
              "Ebay        0.000755\n",
              "Facebook    0.001088\n",
              "Google      0.000974\n",
              "Twitter    -0.000028\n",
              "dtype: float64"
            ]
          },
          "metadata": {
            "tags": []
          },
          "execution_count": 296
        }
      ]
    },
    {
      "metadata": {
        "id": "NbDwz9PgMm7W",
        "colab_type": "text"
      },
      "cell_type": "markdown",
      "source": [
        "## C. Compute Variance-Covariance Matrix of Stock Returns"
      ]
    },
    {
      "metadata": {
        "id": "4mB9_WlxYyxt",
        "colab_type": "code",
        "colab": {
          "autoexec": {
            "startup": false,
            "wait_interval": 0
          },
          "base_uri": "https://localhost:8080/",
          "height": 235
        },
        "outputId": "016ea84e-96f8-479b-f27a-6112954cef13",
        "executionInfo": {
          "status": "ok",
          "timestamp": 1527899446798,
          "user_tz": 420,
          "elapsed": 518,
          "user": {
            "displayName": "Yifu Yan",
            "photoUrl": "https://lh3.googleusercontent.com/a/default-user=s128",
            "userId": "117257928789732833106"
          }
        }
      },
      "cell_type": "code",
      "source": [
        "return_rate_cov = return_rate.cov()\n",
        "return_rate_cov"
      ],
      "execution_count": 297,
      "outputs": [
        {
          "output_type": "execute_result",
          "data": {
            "text/html": [
              "<div>\n",
              "<style scoped>\n",
              "    .dataframe tbody tr th:only-of-type {\n",
              "        vertical-align: middle;\n",
              "    }\n",
              "\n",
              "    .dataframe tbody tr th {\n",
              "        vertical-align: top;\n",
              "    }\n",
              "\n",
              "    .dataframe thead th {\n",
              "        text-align: right;\n",
              "    }\n",
              "</style>\n",
              "<table border=\"1\" class=\"dataframe\">\n",
              "  <thead>\n",
              "    <tr style=\"text-align: right;\">\n",
              "      <th></th>\n",
              "      <th>Amazon</th>\n",
              "      <th>Apple</th>\n",
              "      <th>Ebay</th>\n",
              "      <th>Facebook</th>\n",
              "      <th>Google</th>\n",
              "      <th>Twitter</th>\n",
              "    </tr>\n",
              "  </thead>\n",
              "  <tbody>\n",
              "    <tr>\n",
              "      <th>Amazon</th>\n",
              "      <td>0.000407</td>\n",
              "      <td>0.000005</td>\n",
              "      <td>0.000012</td>\n",
              "      <td>-0.000011</td>\n",
              "      <td>0.000007</td>\n",
              "      <td>-0.000095</td>\n",
              "    </tr>\n",
              "    <tr>\n",
              "      <th>Apple</th>\n",
              "      <td>0.000005</td>\n",
              "      <td>0.000211</td>\n",
              "      <td>0.000060</td>\n",
              "      <td>0.000069</td>\n",
              "      <td>0.000060</td>\n",
              "      <td>0.000040</td>\n",
              "    </tr>\n",
              "    <tr>\n",
              "      <th>Ebay</th>\n",
              "      <td>0.000012</td>\n",
              "      <td>0.000060</td>\n",
              "      <td>0.000292</td>\n",
              "      <td>0.000027</td>\n",
              "      <td>0.000055</td>\n",
              "      <td>0.000024</td>\n",
              "    </tr>\n",
              "    <tr>\n",
              "      <th>Facebook</th>\n",
              "      <td>-0.000011</td>\n",
              "      <td>0.000069</td>\n",
              "      <td>0.000027</td>\n",
              "      <td>0.000242</td>\n",
              "      <td>0.000099</td>\n",
              "      <td>0.000022</td>\n",
              "    </tr>\n",
              "    <tr>\n",
              "      <th>Google</th>\n",
              "      <td>0.000007</td>\n",
              "      <td>0.000060</td>\n",
              "      <td>0.000055</td>\n",
              "      <td>0.000099</td>\n",
              "      <td>0.000203</td>\n",
              "      <td>0.000010</td>\n",
              "    </tr>\n",
              "    <tr>\n",
              "      <th>Twitter</th>\n",
              "      <td>-0.000095</td>\n",
              "      <td>0.000040</td>\n",
              "      <td>0.000024</td>\n",
              "      <td>0.000022</td>\n",
              "      <td>0.000010</td>\n",
              "      <td>0.001071</td>\n",
              "    </tr>\n",
              "  </tbody>\n",
              "</table>\n",
              "</div>"
            ],
            "text/plain": [
              "            Amazon     Apple      Ebay  Facebook    Google   Twitter\n",
              "Amazon    0.000407  0.000005  0.000012 -0.000011  0.000007 -0.000095\n",
              "Apple     0.000005  0.000211  0.000060  0.000069  0.000060  0.000040\n",
              "Ebay      0.000012  0.000060  0.000292  0.000027  0.000055  0.000024\n",
              "Facebook -0.000011  0.000069  0.000027  0.000242  0.000099  0.000022\n",
              "Google    0.000007  0.000060  0.000055  0.000099  0.000203  0.000010\n",
              "Twitter  -0.000095  0.000040  0.000024  0.000022  0.000010  0.001071"
            ]
          },
          "metadata": {
            "tags": []
          },
          "execution_count": 297
        }
      ]
    },
    {
      "metadata": {
        "id": "bbPvYzo2MuFn",
        "colab_type": "text"
      },
      "cell_type": "markdown",
      "source": [
        "## D. Provide vector $\\mu$ and  Variance-Covariance Matrix $\\Sigma$ for 6 assets considered"
      ]
    },
    {
      "metadata": {
        "id": "I7P56B2VYmaD",
        "colab_type": "code",
        "colab": {
          "autoexec": {
            "startup": false,
            "wait_interval": 0
          }
        }
      },
      "cell_type": "code",
      "source": [
        "# Convert pandas series and data frame to list and array\n",
        "mu = np.array(return_rate_mean.tolist())\n",
        "sigma = return_rate_cov.as_matrix()"
      ],
      "execution_count": 0,
      "outputs": []
    },
    {
      "metadata": {
        "id": "wbQW4n2GLshn",
        "colab_type": "text"
      },
      "cell_type": "markdown",
      "source": [
        "# 2. Portfolio Optimization: Minimizing Risk"
      ]
    },
    {
      "metadata": {
        "id": "rKz1IgMdZfYC",
        "colab_type": "code",
        "colab": {
          "autoexec": {
            "startup": false,
            "wait_interval": 0
          },
          "base_uri": "https://localhost:8080/",
          "height": 34
        },
        "outputId": "ae3980f8-60ee-480e-8d68-6642a9f5aa9e",
        "executionInfo": {
          "status": "ok",
          "timestamp": 1527899449561,
          "user_tz": 420,
          "elapsed": 260,
          "user": {
            "displayName": "Yifu Yan",
            "photoUrl": "https://lh3.googleusercontent.com/a/default-user=s128",
            "userId": "117257928789732833106"
          }
        }
      },
      "cell_type": "code",
      "source": [
        "required_return = ((1+0.07) ** (1.0/365))-1\n",
        "x1 = Variable(6)\n",
        "obj = Minimize(quad_form(x1, sigma))\n",
        "constraints = [mu*x1 >= required_return,\n",
        "              sum_entries(x1) == 1.0,\n",
        "              x >= 0.0]\n",
        "prob = Problem(objective=obj, \n",
        "               constraints=constraints)\n",
        "prob.solve()"
      ],
      "execution_count": 299,
      "outputs": [
        {
          "output_type": "execute_result",
          "data": {
            "text/plain": [
              "7.834645802543038e-05"
            ]
          },
          "metadata": {
            "tags": []
          },
          "execution_count": 299
        }
      ]
    },
    {
      "metadata": {
        "id": "OhS_QD0GdH9k",
        "colab_type": "code",
        "colab": {
          "autoexec": {
            "startup": false,
            "wait_interval": 0
          },
          "base_uri": "https://localhost:8080/",
          "height": 136
        },
        "outputId": "d14991ab-303f-4f41-b500-56d35aae6ea4",
        "executionInfo": {
          "status": "ok",
          "timestamp": 1527899451754,
          "user_tz": 420,
          "elapsed": 274,
          "user": {
            "displayName": "Yifu Yan",
            "photoUrl": "https://lh3.googleusercontent.com/a/default-user=s128",
            "userId": "117257928789732833106"
          }
        }
      },
      "cell_type": "code",
      "source": [
        "print(\"portfolio allocations are:\")\n",
        "print(x1.value)"
      ],
      "execution_count": 300,
      "outputs": [
        {
          "output_type": "stream",
          "text": [
            "portfolio allocations are:\n",
            "[[0.20424887]\n",
            " [0.19549525]\n",
            " [0.16170007]\n",
            " [0.17375729]\n",
            " [0.18985702]\n",
            " [0.07494149]]\n"
          ],
          "name": "stdout"
        }
      ]
    },
    {
      "metadata": {
        "id": "BYcV4EefLxVV",
        "colab_type": "text"
      },
      "cell_type": "markdown",
      "source": [
        "# 3. Portfolio Optimization: Maximizing Returns"
      ]
    },
    {
      "metadata": {
        "id": "vTJJdnE2nTQ3",
        "colab_type": "code",
        "colab": {
          "autoexec": {
            "startup": false,
            "wait_interval": 0
          },
          "base_uri": "https://localhost:8080/",
          "height": 629
        },
        "outputId": "d9a8d485-2ec1-4386-b33e-c5558bda79c4",
        "executionInfo": {
          "status": "ok",
          "timestamp": 1527899479714,
          "user_tz": 420,
          "elapsed": 288,
          "user": {
            "displayName": "Yifu Yan",
            "photoUrl": "https://lh3.googleusercontent.com/a/default-user=s128",
            "userId": "117257928789732833106"
          }
        }
      },
      "cell_type": "code",
      "source": [
        "for gamma in [0.1,0.15,0.2]:\n",
        "  x2 = Variable(6)\n",
        "  obj = Maximize(mu.T*x2-gamma*quad_form(x2,sigma)) # cannot take square root of quad_form.\n",
        "  constraints = [mu*x2 >= required_return,\n",
        "                sum_entries(x2) == 1.0,\n",
        "                x2 >= 0.0]\n",
        "  prob = Problem(objective=obj, \n",
        "                 constraints=constraints)\n",
        "  prob.solve()\n",
        "  print(\"while gamma = \"+str(gamma)+\" :\")\n",
        "  print(\"allocation is:\")\n",
        "  print(x2.value)\n",
        "  print(\"max annual return is:\")\n",
        "  print(str(round(((prob.solve() + 1) ** 365 - 1)*100))+\"%\")\n",
        "  print(\"\\n\")"
      ],
      "execution_count": 304,
      "outputs": [
        {
          "output_type": "stream",
          "text": [
            "while gamma = 0.1 :\n",
            "allocation is:\n",
            "[[9.99999988e-01]\n",
            " [2.48040601e-09]\n",
            " [2.45998515e-09]\n",
            " [1.74915269e-09]\n",
            " [2.11875083e-09]\n",
            " [3.52254798e-09]]\n",
            "max annual return is:\n",
            "103.0%\n",
            "\n",
            "\n",
            "while gamma = 0.15 :\n",
            "allocation is:\n",
            "[[9.99999996e-01]\n",
            " [6.75033810e-10]\n",
            " [6.68835156e-10]\n",
            " [7.06892795e-10]\n",
            " [6.17596925e-10]\n",
            " [1.27817908e-09]]\n",
            "max annual return is:\n",
            "102.0%\n",
            "\n",
            "\n",
            "while gamma = 0.2 :\n",
            "allocation is:\n",
            "[[9.99999993e-01]\n",
            " [9.61569016e-10]\n",
            " [1.04693811e-09]\n",
            " [2.10451687e-09]\n",
            " [1.36376086e-09]\n",
            " [1.84087577e-09]]\n",
            "max annual return is:\n",
            "100.0%\n",
            "\n",
            "\n"
          ],
          "name": "stdout"
        }
      ]
    },
    {
      "metadata": {
        "id": "B5Ye6r6BL5Li",
        "colab_type": "text"
      },
      "cell_type": "markdown",
      "source": [
        "# 4. Simulations"
      ]
    },
    {
      "metadata": {
        "id": "7RGdVB6krOnw",
        "colab_type": "code",
        "colab": {
          "autoexec": {
            "startup": false,
            "wait_interval": 0
          },
          "base_uri": "https://localhost:8080/",
          "height": 427
        },
        "outputId": "23d7d670-1920-48b0-b2f9-01260a9021ec",
        "executionInfo": {
          "status": "ok",
          "timestamp": 1527898778011,
          "user_tz": 420,
          "elapsed": 6636,
          "user": {
            "displayName": "Yifu Yan",
            "photoUrl": "https://lh3.googleusercontent.com/a/default-user=s128",
            "userId": "117257928789732833106"
          }
        }
      },
      "cell_type": "code",
      "source": [
        "simu=100 # 100 simulations\n",
        "T = 300 # 300 trading days\n",
        "m=6 # 6 stocks\n",
        "B=100000 # Budget\n",
        "x = x1 # first senerio, minimize risk\n",
        "print(\"Minimize Risk:\")\n",
        "z_values = []\n",
        "for q in range(simu):\n",
        "   y = np.zeros((T+1,m))\n",
        "   y[0]=[x.value.item(0),x.value.item(1),x.value.item(2),x.value.item(3),\\\n",
        "         x.value.item(4), x.value.item(5)]\n",
        "   for i in range(T):\n",
        "       rr=np.random.multivariate_normal(mu,sigma)\n",
        "       y[i+1]=y[i]*(1+rr)\n",
        "   z_values.append(sum(y[T])*B)\n",
        "\n",
        "print(\"mean: \"+str(np.mean(z_values)))\n",
        "print(\"var: \"+str(np.var(z_values)))\n",
        "plt.hist(z_values, density=True )\n",
        "plt.xlabel('Portfolio')\n",
        "plt.ylabel('Probability')\n",
        "plt.title('Histogram of Returns')\n",
        "plt.show()"
      ],
      "execution_count": 262,
      "outputs": [
        {
          "output_type": "stream",
          "text": [
            "Minimize Risk:\n",
            "mean: 136661.2571383137\n",
            "var: 340798829.05457914\n"
          ],
          "name": "stdout"
        },
        {
          "output_type": "display_data",
          "data": {
            "image/png": "[encoded data removed]",
            "text/plain": [
              "<matplotlib.figure.Figure at 0x7f41013d2a50>"
            ]
          },
          "metadata": {
            "tags": []
          }
        }
      ]
    },
    {
      "metadata": {
        "id": "npuWlVpNvOjm",
        "colab_type": "code",
        "colab": {
          "autoexec": {
            "startup": false,
            "wait_interval": 0
          },
          "base_uri": "https://localhost:8080/",
          "height": 427
        },
        "outputId": "2f5c3a39-3ba6-4db8-8e92-95b1f63782c2",
        "executionInfo": {
          "status": "ok",
          "timestamp": 1527898803070,
          "user_tz": 420,
          "elapsed": 6480,
          "user": {
            "displayName": "Yifu Yan",
            "photoUrl": "https://lh3.googleusercontent.com/a/default-user=s128",
            "userId": "117257928789732833106"
          }
        }
      },
      "cell_type": "code",
      "source": [
        "simu=100 # 100 simulations\n",
        "T = 300 # 300 trading days\n",
        "m=6 # 6 stocks\n",
        "B=100000 # Budget\n",
        "x = x2 # first senerio, minimize risk\n",
        "print(\"Maximize Profit:\")\n",
        "z_values = []\n",
        "for q in range(simu):\n",
        "   y = np.zeros((T+1,m))\n",
        "   y[0]=[x.value.item(0),x.value.item(1),x.value.item(2),x.value.item(3),\\\n",
        "         x.value.item(4), x.value.item(5)]\n",
        "   for i in range(T):\n",
        "       rr=np.random.multivariate_normal(mu,sigma)\n",
        "       y[i+1]=y[i]*(1+rr)\n",
        "   z_values.append(sum(y[T])*B)\n",
        "\n",
        "print(\"mean: \"+str(np.mean(z_values)))\n",
        "print(\"var: \"+str(np.var(z_values)))\n",
        "plt.hist(z_values, density=True )\n",
        "plt.xlabel('Portfolio')\n",
        "plt.ylabel('Probability')\n",
        "plt.title('Histogram of Returns')\n",
        "plt.show()"
      ],
      "execution_count": 263,
      "outputs": [
        {
          "output_type": "stream",
          "text": [
            "Maximize Profit:\n",
            "mean: 179428.2102909254\n",
            "var: 3334443186.564652\n"
          ],
          "name": "stdout"
        },
        {
          "output_type": "display_data",
          "data": {
            "image/png": "[encoded data removed]",
            "text/plain": [
              "<matplotlib.figure.Figure at 0x7f41038468d0>"
            ]
          },
          "metadata": {
            "tags": []
          }
        }
      ]
    },
    {
      "metadata": {
        "id": "xxuPHjbkL-xt",
        "colab_type": "text"
      },
      "cell_type": "markdown",
      "source": [
        "# 5. Recommendations"
      ]
    },
    {
      "metadata": {
        "id": "2kem2Z2HNU2I",
        "colab_type": "text"
      },
      "cell_type": "markdown",
      "source": [
        "## a. Explain the difference in allocations"
      ]
    },
    {
      "metadata": {
        "id": "07jBkU1lwO9Q",
        "colab_type": "text"
      },
      "cell_type": "markdown",
      "source": [
        "The goal of portfolio 1 is to minimize risk, so the alloction is very diverse, so the risks from different stocks can cancel out each other.\n",
        "\n",
        "While the goal of portfolio 2 is to maximize return, so the investor needs to expose himself/herself in higher risk."
      ]
    },
    {
      "metadata": {
        "id": "mPRT04xCNax1",
        "colab_type": "text"
      },
      "cell_type": "markdown",
      "source": [
        "## b. recommendations for investors with different risk aversion $\\gamma$"
      ]
    },
    {
      "metadata": {
        "id": "srC8vFz83qBN",
        "colab_type": "text"
      },
      "cell_type": "markdown",
      "source": [
        "If the investor wants to minimize risk, he or she should  have more diversification over the portfolio(weight: 0.20424887,0.19549525,0.16170007,0.17375729,0.18985702,0.07494149). So the risk of stocks can cancel out each other.\n",
        "\n",
        "If the investor wants to maximize the returns from the portofil while considering risks, the investor should expose himself/herselt to higher risks. As Amazon's stock price increase very fast. From all our optimization, we found that, no matter the risk avrsion(from 0.1 to 0.2), the investor should invest in Amazon (99.9999% of the portfolio).\n",
        "\n",
        "As long as the risk aversion of investor is between 0.1 and 0.2. They investor should invest most in the Amazon stock(more than 99.99%)."
      ]
    },
    {
      "metadata": {
        "id": "THtJx6YDNmy9",
        "colab_type": "text"
      },
      "cell_type": "markdown",
      "source": [
        "# PART B:"
      ]
    },
    {
      "metadata": {
        "id": "wtlv90-YNsZ7",
        "colab_type": "text"
      },
      "cell_type": "markdown",
      "source": [
        "# 1.Prepare Data"
      ]
    },
    {
      "metadata": {
        "id": "lOEokp774b_d",
        "colab_type": "code",
        "colab": {
          "autoexec": {
            "startup": false,
            "wait_interval": 0
          }
        }
      },
      "cell_type": "code",
      "source": [
        "# Use last 400 days\n",
        "price = pd.read_excel(\"datahomework2.xls\")\n",
        "price = price.iloc[-400:,:]"
      ],
      "execution_count": 0,
      "outputs": []
    },
    {
      "metadata": {
        "id": "A9dB4hcNNv23",
        "colab_type": "text"
      },
      "cell_type": "markdown",
      "source": [
        "## A. Calculate Return Rates"
      ]
    },
    {
      "metadata": {
        "id": "QxWqRDbt4XJC",
        "colab_type": "code",
        "colab": {
          "autoexec": {
            "startup": false,
            "wait_interval": 0
          },
          "base_uri": "https://localhost:8080/",
          "height": 204
        },
        "outputId": "26d1c418-783f-480f-ccd8-71faf8c5ed08",
        "executionInfo": {
          "status": "ok",
          "timestamp": 1527899487630,
          "user_tz": 420,
          "elapsed": 313,
          "user": {
            "displayName": "Yifu Yan",
            "photoUrl": "https://lh3.googleusercontent.com/a/default-user=s128",
            "userId": "117257928789732833106"
          }
        }
      },
      "cell_type": "code",
      "source": [
        "return_rate = price /price.shift(1) - 1.0# with first row as NaN\n",
        "return_rate = return_rate.drop(return_rate.index[0])\n",
        "return_rate.head(5) # return rates first 5 rows"
      ],
      "execution_count": 306,
      "outputs": [
        {
          "output_type": "execute_result",
          "data": {
            "text/html": [
              "<div>\n",
              "<style scoped>\n",
              "    .dataframe tbody tr th:only-of-type {\n",
              "        vertical-align: middle;\n",
              "    }\n",
              "\n",
              "    .dataframe tbody tr th {\n",
              "        vertical-align: top;\n",
              "    }\n",
              "\n",
              "    .dataframe thead th {\n",
              "        text-align: right;\n",
              "    }\n",
              "</style>\n",
              "<table border=\"1\" class=\"dataframe\">\n",
              "  <thead>\n",
              "    <tr style=\"text-align: right;\">\n",
              "      <th></th>\n",
              "      <th>Amazon</th>\n",
              "      <th>Apple</th>\n",
              "      <th>Ebay</th>\n",
              "      <th>Facebook</th>\n",
              "      <th>Google</th>\n",
              "      <th>Twitter</th>\n",
              "    </tr>\n",
              "  </thead>\n",
              "  <tbody>\n",
              "    <tr>\n",
              "      <th>400</th>\n",
              "      <td>-0.015032</td>\n",
              "      <td>0.015207</td>\n",
              "      <td>0.010625</td>\n",
              "      <td>0.006353</td>\n",
              "      <td>0.012142</td>\n",
              "      <td>0.067554</td>\n",
              "    </tr>\n",
              "    <tr>\n",
              "      <th>401</th>\n",
              "      <td>-0.002854</td>\n",
              "      <td>0.008281</td>\n",
              "      <td>-0.007646</td>\n",
              "      <td>0.000879</td>\n",
              "      <td>-0.002107</td>\n",
              "      <td>-0.022052</td>\n",
              "    </tr>\n",
              "    <tr>\n",
              "      <th>402</th>\n",
              "      <td>0.015332</td>\n",
              "      <td>0.004060</td>\n",
              "      <td>-0.001284</td>\n",
              "      <td>-0.001597</td>\n",
              "      <td>0.002794</td>\n",
              "      <td>-0.011274</td>\n",
              "    </tr>\n",
              "    <tr>\n",
              "      <th>403</th>\n",
              "      <td>0.008462</td>\n",
              "      <td>-0.007444</td>\n",
              "      <td>0.000321</td>\n",
              "      <td>-0.001439</td>\n",
              "      <td>0.001251</td>\n",
              "      <td>-0.058007</td>\n",
              "    </tr>\n",
              "    <tr>\n",
              "      <th>404</th>\n",
              "      <td>-0.000682</td>\n",
              "      <td>-0.000648</td>\n",
              "      <td>0.002571</td>\n",
              "      <td>0.000160</td>\n",
              "      <td>-0.000359</td>\n",
              "      <td>-0.001053</td>\n",
              "    </tr>\n",
              "  </tbody>\n",
              "</table>\n",
              "</div>"
            ],
            "text/plain": [
              "       Amazon     Apple      Ebay  Facebook    Google   Twitter\n",
              "400 -0.015032  0.015207  0.010625  0.006353  0.012142  0.067554\n",
              "401 -0.002854  0.008281 -0.007646  0.000879 -0.002107 -0.022052\n",
              "402  0.015332  0.004060 -0.001284 -0.001597  0.002794 -0.011274\n",
              "403  0.008462 -0.007444  0.000321 -0.001439  0.001251 -0.058007\n",
              "404 -0.000682 -0.000648  0.002571  0.000160 -0.000359 -0.001053"
            ]
          },
          "metadata": {
            "tags": []
          },
          "execution_count": 306
        }
      ]
    },
    {
      "metadata": {
        "id": "N6nQfyIKNwZj",
        "colab_type": "text"
      },
      "cell_type": "markdown",
      "source": [
        "## B. Compute Average Return Rates"
      ]
    },
    {
      "metadata": {
        "id": "c1A8m-JH4_Dn",
        "colab_type": "code",
        "colab": {
          "autoexec": {
            "startup": false,
            "wait_interval": 0
          },
          "base_uri": "https://localhost:8080/",
          "height": 153
        },
        "outputId": "8dc813c4-3509-4ac1-bc47-4884286d041d",
        "executionInfo": {
          "status": "ok",
          "timestamp": 1527899488731,
          "user_tz": 420,
          "elapsed": 317,
          "user": {
            "displayName": "Yifu Yan",
            "photoUrl": "https://lh3.googleusercontent.com/a/default-user=s128",
            "userId": "117257928789732833106"
          }
        }
      },
      "cell_type": "code",
      "source": [
        "return_rate_mean = (return_rate+1.0).agg(np.prod) ** (1.0/len(return_rate.index)) -1.0\n",
        "print(\"mean return rate:\")\n",
        "return_rate_mean"
      ],
      "execution_count": 307,
      "outputs": [
        {
          "output_type": "stream",
          "text": [
            "mean return rate:\n"
          ],
          "name": "stdout"
        },
        {
          "output_type": "execute_result",
          "data": {
            "text/plain": [
              "Amazon      0.001464\n",
              "Apple       0.001261\n",
              "Ebay        0.000806\n",
              "Facebook    0.000980\n",
              "Google      0.000873\n",
              "Twitter     0.001503\n",
              "dtype: float64"
            ]
          },
          "metadata": {
            "tags": []
          },
          "execution_count": 307
        }
      ]
    },
    {
      "metadata": {
        "id": "kSr5qTSPNwfE",
        "colab_type": "text"
      },
      "cell_type": "markdown",
      "source": [
        "## C. Compute Variance-Covariance Matrix of Stock Returns"
      ]
    },
    {
      "metadata": {
        "id": "xXUS4leI5RlA",
        "colab_type": "code",
        "colab": {
          "autoexec": {
            "startup": false,
            "wait_interval": 0
          },
          "base_uri": "https://localhost:8080/",
          "height": 235
        },
        "outputId": "a196cbcf-6363-434d-f24c-53323de29637",
        "executionInfo": {
          "status": "ok",
          "timestamp": 1527899489816,
          "user_tz": 420,
          "elapsed": 276,
          "user": {
            "displayName": "Yifu Yan",
            "photoUrl": "https://lh3.googleusercontent.com/a/default-user=s128",
            "userId": "117257928789732833106"
          }
        }
      },
      "cell_type": "code",
      "source": [
        "return_rate_cov = return_rate.cov()\n",
        "return_rate_cov"
      ],
      "execution_count": 308,
      "outputs": [
        {
          "output_type": "execute_result",
          "data": {
            "text/html": [
              "<div>\n",
              "<style scoped>\n",
              "    .dataframe tbody tr th:only-of-type {\n",
              "        vertical-align: middle;\n",
              "    }\n",
              "\n",
              "    .dataframe tbody tr th {\n",
              "        vertical-align: top;\n",
              "    }\n",
              "\n",
              "    .dataframe thead th {\n",
              "        text-align: right;\n",
              "    }\n",
              "</style>\n",
              "<table border=\"1\" class=\"dataframe\">\n",
              "  <thead>\n",
              "    <tr style=\"text-align: right;\">\n",
              "      <th></th>\n",
              "      <th>Amazon</th>\n",
              "      <th>Apple</th>\n",
              "      <th>Ebay</th>\n",
              "      <th>Facebook</th>\n",
              "      <th>Google</th>\n",
              "      <th>Twitter</th>\n",
              "    </tr>\n",
              "  </thead>\n",
              "  <tbody>\n",
              "    <tr>\n",
              "      <th>Amazon</th>\n",
              "      <td>2.300889e-04</td>\n",
              "      <td>-0.000010</td>\n",
              "      <td>-3.671180e-07</td>\n",
              "      <td>-0.000002</td>\n",
              "      <td>-9.316626e-07</td>\n",
              "      <td>-0.000034</td>\n",
              "    </tr>\n",
              "    <tr>\n",
              "      <th>Apple</th>\n",
              "      <td>-9.806561e-06</td>\n",
              "      <td>0.000140</td>\n",
              "      <td>6.598452e-06</td>\n",
              "      <td>0.000003</td>\n",
              "      <td>6.913915e-06</td>\n",
              "      <td>-0.000011</td>\n",
              "    </tr>\n",
              "    <tr>\n",
              "      <th>Ebay</th>\n",
              "      <td>-3.671180e-07</td>\n",
              "      <td>0.000007</td>\n",
              "      <td>2.367480e-04</td>\n",
              "      <td>-0.000013</td>\n",
              "      <td>1.879560e-06</td>\n",
              "      <td>-0.000026</td>\n",
              "    </tr>\n",
              "    <tr>\n",
              "      <th>Facebook</th>\n",
              "      <td>-2.030910e-06</td>\n",
              "      <td>0.000003</td>\n",
              "      <td>-1.321101e-05</td>\n",
              "      <td>0.000159</td>\n",
              "      <td>2.138099e-05</td>\n",
              "      <td>-0.000002</td>\n",
              "    </tr>\n",
              "    <tr>\n",
              "      <th>Google</th>\n",
              "      <td>-9.316626e-07</td>\n",
              "      <td>0.000007</td>\n",
              "      <td>1.879560e-06</td>\n",
              "      <td>0.000021</td>\n",
              "      <td>1.224945e-04</td>\n",
              "      <td>-0.000005</td>\n",
              "    </tr>\n",
              "    <tr>\n",
              "      <th>Twitter</th>\n",
              "      <td>-3.373240e-05</td>\n",
              "      <td>-0.000011</td>\n",
              "      <td>-2.619704e-05</td>\n",
              "      <td>-0.000002</td>\n",
              "      <td>-5.323036e-06</td>\n",
              "      <td>0.001004</td>\n",
              "    </tr>\n",
              "  </tbody>\n",
              "</table>\n",
              "</div>"
            ],
            "text/plain": [
              "                Amazon     Apple          Ebay  Facebook        Google  \\\n",
              "Amazon    2.300889e-04 -0.000010 -3.671180e-07 -0.000002 -9.316626e-07   \n",
              "Apple    -9.806561e-06  0.000140  6.598452e-06  0.000003  6.913915e-06   \n",
              "Ebay     -3.671180e-07  0.000007  2.367480e-04 -0.000013  1.879560e-06   \n",
              "Facebook -2.030910e-06  0.000003 -1.321101e-05  0.000159  2.138099e-05   \n",
              "Google   -9.316626e-07  0.000007  1.879560e-06  0.000021  1.224945e-04   \n",
              "Twitter  -3.373240e-05 -0.000011 -2.619704e-05 -0.000002 -5.323036e-06   \n",
              "\n",
              "           Twitter  \n",
              "Amazon   -0.000034  \n",
              "Apple    -0.000011  \n",
              "Ebay     -0.000026  \n",
              "Facebook -0.000002  \n",
              "Google   -0.000005  \n",
              "Twitter   0.001004  "
            ]
          },
          "metadata": {
            "tags": []
          },
          "execution_count": 308
        }
      ]
    },
    {
      "metadata": {
        "id": "k-UsjP2mNwi2",
        "colab_type": "text"
      },
      "cell_type": "markdown",
      "source": [
        "## D. Provide vector $\\mu$ and  Variance-Covariance Matrix $\\Sigma$ for 6 assets considered"
      ]
    },
    {
      "metadata": {
        "id": "MFkSEd665UTt",
        "colab_type": "code",
        "colab": {
          "autoexec": {
            "startup": false,
            "wait_interval": 0
          }
        }
      },
      "cell_type": "code",
      "source": [
        "# Convert pandas series and data frame to list and array\n",
        "mu = np.array(return_rate_mean.tolist())\n",
        "sigma = return_rate_cov.as_matrix()"
      ],
      "execution_count": 0,
      "outputs": []
    },
    {
      "metadata": {
        "id": "HAe_4eyNNwmA",
        "colab_type": "text"
      },
      "cell_type": "markdown",
      "source": [
        "# 2. Portfolio Optimization: Minimizing Risk"
      ]
    },
    {
      "metadata": {
        "id": "e6732tzI5Wjx",
        "colab_type": "code",
        "colab": {
          "autoexec": {
            "startup": false,
            "wait_interval": 0
          },
          "base_uri": "https://localhost:8080/",
          "height": 34
        },
        "outputId": "f4850547-0475-4eae-babd-b9dcd22b062e",
        "executionInfo": {
          "status": "ok",
          "timestamp": 1527899493148,
          "user_tz": 420,
          "elapsed": 267,
          "user": {
            "displayName": "Yifu Yan",
            "photoUrl": "https://lh3.googleusercontent.com/a/default-user=s128",
            "userId": "117257928789732833106"
          }
        }
      },
      "cell_type": "code",
      "source": [
        "required_return = ((1+0.07) ** (1.0/365))-1\n",
        "x1 = Variable(6)\n",
        "obj = Minimize(quad_form(x1, sigma))\n",
        "constraints = [mu*x1 >= required_return,\n",
        "              sum_entries(x1) == 1.0,\n",
        "              x >= 0.0]\n",
        "prob = Problem(objective=obj, \n",
        "               constraints=constraints)\n",
        "prob.solve()"
      ],
      "execution_count": 310,
      "outputs": [
        {
          "output_type": "execute_result",
          "data": {
            "text/plain": [
              "3.304433596238752e-05"
            ]
          },
          "metadata": {
            "tags": []
          },
          "execution_count": 310
        }
      ]
    },
    {
      "metadata": {
        "id": "kCfCPBWZ5ZQd",
        "colab_type": "code",
        "colab": {
          "autoexec": {
            "startup": false,
            "wait_interval": 0
          },
          "base_uri": "https://localhost:8080/",
          "height": 136
        },
        "outputId": "02a06d39-a10c-4a31-8cf0-3978c46155dc",
        "executionInfo": {
          "status": "ok",
          "timestamp": 1527899494694,
          "user_tz": 420,
          "elapsed": 268,
          "user": {
            "displayName": "Yifu Yan",
            "photoUrl": "https://lh3.googleusercontent.com/a/default-user=s128",
            "userId": "117257928789732833106"
          }
        }
      },
      "cell_type": "code",
      "source": [
        "print(\"portfolio allocations are:\")\n",
        "print(x1.value)"
      ],
      "execution_count": 311,
      "outputs": [
        {
          "output_type": "stream",
          "text": [
            "portfolio allocations are:\n",
            "[[0.16292247]\n",
            " [0.22948999]\n",
            " [0.1473746 ]\n",
            " [0.18903736]\n",
            " [0.22488624]\n",
            " [0.04628934]]\n"
          ],
          "name": "stdout"
        }
      ]
    },
    {
      "metadata": {
        "id": "wLlc6bMfNwoP",
        "colab_type": "text"
      },
      "cell_type": "markdown",
      "source": [
        "# 3. Portfolio Optimization: Maximizing Returns"
      ]
    },
    {
      "metadata": {
        "id": "Wc9T6pZs5bVX",
        "colab_type": "code",
        "colab": {
          "autoexec": {
            "startup": false,
            "wait_interval": 0
          },
          "base_uri": "https://localhost:8080/",
          "height": 629
        },
        "outputId": "3636398f-f4e4-4430-b55a-19078397ae07",
        "executionInfo": {
          "status": "ok",
          "timestamp": 1527899500066,
          "user_tz": 420,
          "elapsed": 507,
          "user": {
            "displayName": "Yifu Yan",
            "photoUrl": "https://lh3.googleusercontent.com/a/default-user=s128",
            "userId": "117257928789732833106"
          }
        }
      },
      "cell_type": "code",
      "source": [
        "for gamma in [0.1,0.15,0.2]:\n",
        "  x2 = Variable(6)\n",
        "  obj = Maximize(mu.T*x2-gamma*quad_form(x2,sigma)) # cannot take square root of quad_form, otherwise return error\n",
        "  constraints = [mu*x2 >= required_return,\n",
        "                sum_entries(x2) == 1.0,\n",
        "                x2 >= 0.0]\n",
        "  prob = Problem(objective=obj, \n",
        "                 constraints=constraints)\n",
        "  prob.solve()\n",
        "  print(\"while gamma = \"+str(gamma)+\" :\")\n",
        "  print(\"allocation is:\")\n",
        "  print(x2.value)\n",
        "  print(\"max annual return is:\")\n",
        "  print(str(round(((prob.solve() + 1) ** 365 - 1)*100))+\"%\")\n",
        "  print(\"\\n\")"
      ],
      "execution_count": 312,
      "outputs": [
        {
          "output_type": "stream",
          "text": [
            "while gamma = 0.1 :\n",
            "allocation is:\n",
            "[[6.47945849e-01]\n",
            " [3.76112562e-08]\n",
            " [4.77535640e-08]\n",
            " [5.22277353e-08]\n",
            " [4.89317505e-08]\n",
            " [3.52053964e-01]]\n",
            "max annual return is:\n",
            "70.0%\n",
            "\n",
            "\n",
            "while gamma = 0.15 :\n",
            "allocation is:\n",
            "[[6.97885273e-01]\n",
            " [6.36066591e-08]\n",
            " [1.75592283e-08]\n",
            " [2.38633781e-08]\n",
            " [1.94541517e-08]\n",
            " [3.02114603e-01]]\n",
            "max annual return is:\n",
            "70.0%\n",
            "\n",
            "\n",
            "while gamma = 0.2 :\n",
            "allocation is:\n",
            "[[7.22460850e-01]\n",
            " [5.02504163e-07]\n",
            " [1.19930332e-07]\n",
            " [1.67492644e-07]\n",
            " [1.34175116e-07]\n",
            " [2.77538225e-01]]\n",
            "max annual return is:\n",
            "69.0%\n",
            "\n",
            "\n"
          ],
          "name": "stdout"
        }
      ]
    },
    {
      "metadata": {
        "id": "EGcjIN6jNwxO",
        "colab_type": "text"
      },
      "cell_type": "markdown",
      "source": [
        "# 4. Simulations"
      ]
    },
    {
      "metadata": {
        "id": "sMt08JAX6HT1",
        "colab_type": "code",
        "colab": {
          "autoexec": {
            "startup": false,
            "wait_interval": 0
          },
          "base_uri": "https://localhost:8080/",
          "height": 427
        },
        "outputId": "6c83f365-11d3-447b-abbb-9afc60f15eaa",
        "executionInfo": {
          "status": "ok",
          "timestamp": 1527899526471,
          "user_tz": 420,
          "elapsed": 6823,
          "user": {
            "displayName": "Yifu Yan",
            "photoUrl": "https://lh3.googleusercontent.com/a/default-user=s128",
            "userId": "117257928789732833106"
          }
        }
      },
      "cell_type": "code",
      "source": [
        "simu=100 # 100 simulations\n",
        "T = 300 # 300 trading days\n",
        "m=6 # 6 stocks\n",
        "B=100000 # Budget\n",
        "x = x1 # first senerio, minimize risk\n",
        "print(\"Minimize Risk:\")\n",
        "z_values = []\n",
        "for q in range(simu):\n",
        "   y = np.zeros((T+1,m))\n",
        "   y[0]=[x.value.item(0),x.value.item(1),x.value.item(2),x.value.item(3),\\\n",
        "         x.value.item(4), x.value.item(5)]\n",
        "   for i in range(T):\n",
        "       rr=np.random.multivariate_normal(mu,sigma)\n",
        "       y[i+1]=y[i]*(1+rr)\n",
        "   z_values.append(sum(y[T])*B)\n",
        "\n",
        "print(\"mean: \"+str(np.mean(z_values)))\n",
        "print(\"var: \"+str(np.var(z_values)))\n",
        "plt.hist(z_values, density=True )\n",
        "plt.xlabel('Portfolio')\n",
        "plt.ylabel('Probability')\n",
        "plt.title('Histogram of Returns')\n",
        "plt.show()"
      ],
      "execution_count": 313,
      "outputs": [
        {
          "output_type": "stream",
          "text": [
            "Minimize Risk:\n",
            "mean: 140848.71581755028\n",
            "var: 203387851.97965172\n"
          ],
          "name": "stdout"
        },
        {
          "output_type": "display_data",
          "data": {
            "image/png": "[encoded data removed]",
            "text/plain": [
              "<matplotlib.figure.Figure at 0x7f4101456690>"
            ]
          },
          "metadata": {
            "tags": []
          }
        }
      ]
    },
    {
      "metadata": {
        "id": "djgXMi8D6IC7",
        "colab_type": "code",
        "colab": {
          "autoexec": {
            "startup": false,
            "wait_interval": 0
          },
          "base_uri": "https://localhost:8080/",
          "height": 427
        },
        "outputId": "e5fb7906-dd62-4670-e5bd-f0121d09ab65",
        "executionInfo": {
          "status": "ok",
          "timestamp": 1527899533973,
          "user_tz": 420,
          "elapsed": 6507,
          "user": {
            "displayName": "Yifu Yan",
            "photoUrl": "https://lh3.googleusercontent.com/a/default-user=s128",
            "userId": "117257928789732833106"
          }
        }
      },
      "cell_type": "code",
      "source": [
        "simu=100 # 100 simulations\n",
        "T = 300 # 300 trading days\n",
        "m=6 # 6 stocks\n",
        "B=100000 # Budget\n",
        "x = x2 # first senerio, minimize risk\n",
        "print(\"Maximize Profit:\")\n",
        "z_values = []\n",
        "for q in range(simu):\n",
        "   y = np.zeros((T+1,m))\n",
        "   y[0]=[x.value.item(0),x.value.item(1),x.value.item(2),x.value.item(3),\\\n",
        "         x.value.item(4), x.value.item(5)]\n",
        "   for i in range(T):\n",
        "       rr=np.random.multivariate_normal(mu,sigma)\n",
        "       y[i+1]=y[i]*(1+rr)\n",
        "   z_values.append(sum(y[T])*B)\n",
        "\n",
        "print(\"mean: \"+str(np.mean(z_values)))\n",
        "print(\"var: \"+str(np.var(z_values)))\n",
        "plt.hist(z_values, density=True )\n",
        "plt.xlabel('Portfolio')\n",
        "plt.ylabel('Probability')\n",
        "plt.title('Histogram of Returns')\n",
        "plt.show()"
      ],
      "execution_count": 314,
      "outputs": [
        {
          "output_type": "stream",
          "text": [
            "Maximize Profit:\n",
            "mean: 154868.2067357917\n",
            "var: 1574105843.286802\n"
          ],
          "name": "stdout"
        },
        {
          "output_type": "display_data",
          "data": {
            "image/png": "[encoded data removed]",
            "text/plain": [
              "<matplotlib.figure.Figure at 0x7f41012e3610>"
            ]
          },
          "metadata": {
            "tags": []
          }
        }
      ]
    },
    {
      "metadata": {
        "id": "bUpafzGtNw28",
        "colab_type": "text"
      },
      "cell_type": "markdown",
      "source": [
        "# 5. Recommendations"
      ]
    },
    {
      "metadata": {
        "id": "Q_lC5T3FNw8P",
        "colab_type": "text"
      },
      "cell_type": "markdown",
      "source": [
        "## a. Explain the difference in allocations"
      ]
    },
    {
      "metadata": {
        "id": "4a9E41Ei62uu",
        "colab_type": "text"
      },
      "cell_type": "markdown",
      "source": [
        "The goal of portfolio 1 is to minimize risk, so the alloction is very diverse, so the risks from different stocks can cancel out each other.\n",
        "\n",
        "While the goal of portfolio 2 is to maximize return, so the investor needs to expose himself/herself in higher risk."
      ]
    },
    {
      "metadata": {
        "id": "WWWN2XBrNxBt",
        "colab_type": "text"
      },
      "cell_type": "markdown",
      "source": [
        "## b. recommendations for investors with different risk aversion $\\gamma$"
      ]
    },
    {
      "metadata": {
        "id": "Bi_7KCoh8CCZ",
        "colab_type": "text"
      },
      "cell_type": "markdown",
      "source": [
        "If the investor wants to minimize risk:  He or she should have more diversification over investments with weight: 0.16292247,0.22948999,0.1473746,0.18903736,0.22488624,0.04628934.\n",
        "\n",
        "Consider risk aversion, if the investor wants to  maximize portfolio return,  for investor who has risk aversion of 0.1, 0.15 and 0.2, The investor should invest around:  \n",
        "65%,70%,72% in Amazon, and 35%, 30% 28% in Twitter."
      ]
    },
    {
      "metadata": {
        "id": "wJmfv2O6NxJa",
        "colab_type": "text"
      },
      "cell_type": "markdown",
      "source": [
        "## c.Why are the allocations different\n",
        "\n",
        "\n"
      ]
    },
    {
      "metadata": {
        "id": "IGrQvS_B9swK",
        "colab_type": "code",
        "colab": {
          "autoexec": {
            "startup": false,
            "wait_interval": 0
          },
          "base_uri": "https://localhost:8080/",
          "height": 364
        },
        "outputId": "d31c4b74-6dd9-434d-f39a-f737fdbf31b1",
        "executionInfo": {
          "status": "ok",
          "timestamp": 1527900481966,
          "user_tz": 420,
          "elapsed": 663,
          "user": {
            "displayName": "Yifu Yan",
            "photoUrl": "https://lh3.googleusercontent.com/a/default-user=s128",
            "userId": "117257928789732833106"
          }
        }
      },
      "cell_type": "code",
      "source": [
        "price = pd.read_excel(\"datahomework2.xls\")\n",
        "price.plot()"
      ],
      "execution_count": 316,
      "outputs": [
        {
          "output_type": "execute_result",
          "data": {
            "text/plain": [
              "<matplotlib.axes._subplots.AxesSubplot at 0x7f410112e550>"
            ]
          },
          "metadata": {
            "tags": []
          },
          "execution_count": 316
        },
        {
          "output_type": "display_data",
          "data": {
            "image/png": "[encoded data removed]",
            "text/plain": [
              "<matplotlib.figure.Figure at 0x7f41010c6210>"
            ]
          },
          "metadata": {
            "tags": []
          }
        }
      ]
    },
    {
      "metadata": {
        "id": "X2Judy24913W",
        "colab_type": "text"
      },
      "cell_type": "markdown",
      "source": [
        "The allocation difference betwwen using full time series and only last four hundred days are:\n",
        "\n",
        "When using only last four hundred days, optimization sugguest that investor should invest less in Amazon, because during the last 400 days, Amazon's stock price are more volatile."
      ]
    }
  ]
}